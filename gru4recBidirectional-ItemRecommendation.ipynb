{
 "cells": [
  {
   "cell_type": "code",
   "execution_count": 1,
   "id": "4aa74b23",
   "metadata": {},
   "outputs": [
    {
     "data": {
      "text/plain": [
       "0"
      ]
     },
     "execution_count": 1,
     "metadata": {},
     "output_type": "execute_result"
    }
   ],
   "source": [
    "import argparse\n",
    "import torch\n",
    "import numpy as np\n",
    "import os\n",
    "import datetime\n",
    "import torch.nn as nn\n",
    "from torch.autograd import Variable\n",
    "import torch.nn.functional as F\n",
    "import torch.optim as optim\n",
    "from tqdm import tqdm\n",
    "import time\n",
    "torch.cuda.empty_cache()\n",
    "import gc\n",
    "gc.collect()"
   ]
  },
  {
   "cell_type": "code",
   "execution_count": 2,
   "id": "dcd39e4a",
   "metadata": {},
   "outputs": [],
   "source": [
    "import pandas as pd\n",
    "df = pd.read_csv('./jd_computer_final1.csv')"
   ]
  },
  {
   "cell_type": "code",
   "execution_count": 3,
   "id": "ab04ed01",
   "metadata": {},
   "outputs": [
    {
     "data": {
      "text/html": [
       "<div>\n",
       "<style scoped>\n",
       "    .dataframe tbody tr th:only-of-type {\n",
       "        vertical-align: middle;\n",
       "    }\n",
       "\n",
       "    .dataframe tbody tr th {\n",
       "        vertical-align: top;\n",
       "    }\n",
       "\n",
       "    .dataframe thead th {\n",
       "        text-align: right;\n",
       "    }\n",
       "</style>\n",
       "<table border=\"1\" class=\"dataframe\">\n",
       "  <thead>\n",
       "    <tr style=\"text-align: right;\">\n",
       "      <th></th>\n",
       "      <th>Unnamed: 0</th>\n",
       "      <th>Seq</th>\n",
       "      <th>Session_ID</th>\n",
       "      <th>sku</th>\n",
       "      <th>behavior_type</th>\n",
       "      <th>category</th>\n",
       "      <th>time_interval</th>\n",
       "      <th>dwell_time</th>\n",
       "    </tr>\n",
       "  </thead>\n",
       "  <tbody>\n",
       "    <tr>\n",
       "      <th>0</th>\n",
       "      <td>2</td>\n",
       "      <td>0</td>\n",
       "      <td>0</td>\n",
       "      <td>1816417</td>\n",
       "      <td>9</td>\n",
       "      <td>678</td>\n",
       "      <td>44</td>\n",
       "      <td>6</td>\n",
       "    </tr>\n",
       "    <tr>\n",
       "      <th>1</th>\n",
       "      <td>4</td>\n",
       "      <td>1</td>\n",
       "      <td>0</td>\n",
       "      <td>10477058312</td>\n",
       "      <td>9</td>\n",
       "      <td>679</td>\n",
       "      <td>10</td>\n",
       "      <td>4</td>\n",
       "    </tr>\n",
       "    <tr>\n",
       "      <th>2</th>\n",
       "      <td>6</td>\n",
       "      <td>2</td>\n",
       "      <td>0</td>\n",
       "      <td>1279827</td>\n",
       "      <td>9</td>\n",
       "      <td>11303</td>\n",
       "      <td>16</td>\n",
       "      <td>17</td>\n",
       "    </tr>\n",
       "    <tr>\n",
       "      <th>3</th>\n",
       "      <td>8</td>\n",
       "      <td>3</td>\n",
       "      <td>0</td>\n",
       "      <td>3148032</td>\n",
       "      <td>9</td>\n",
       "      <td>11303</td>\n",
       "      <td>16</td>\n",
       "      <td>7</td>\n",
       "    </tr>\n",
       "    <tr>\n",
       "      <th>4</th>\n",
       "      <td>10</td>\n",
       "      <td>4</td>\n",
       "      <td>0</td>\n",
       "      <td>1853383</td>\n",
       "      <td>9</td>\n",
       "      <td>681</td>\n",
       "      <td>15</td>\n",
       "      <td>11</td>\n",
       "    </tr>\n",
       "  </tbody>\n",
       "</table>\n",
       "</div>"
      ],
      "text/plain": [
       "   Unnamed: 0  Seq  Session_ID          sku  behavior_type  category  \\\n",
       "0           2    0           0      1816417              9       678   \n",
       "1           4    1           0  10477058312              9       679   \n",
       "2           6    2           0      1279827              9     11303   \n",
       "3           8    3           0      3148032              9     11303   \n",
       "4          10    4           0      1853383              9       681   \n",
       "\n",
       "   time_interval  dwell_time  \n",
       "0             44           6  \n",
       "1             10           4  \n",
       "2             16          17  \n",
       "3             16           7  \n",
       "4             15          11  "
      ]
     },
     "execution_count": 3,
     "metadata": {},
     "output_type": "execute_result"
    }
   ],
   "source": [
    "df.head()"
   ]
  },
  {
   "cell_type": "code",
   "execution_count": 4,
   "id": "57d3c0b5",
   "metadata": {},
   "outputs": [
    {
     "data": {
      "text/plain": [
       "array([     0,      1,      6, ..., 999995, 999997, 999999])"
      ]
     },
     "execution_count": 4,
     "metadata": {},
     "output_type": "execute_result"
    }
   ],
   "source": [
    "df['Session_ID'].unique()"
   ]
  },
  {
   "cell_type": "code",
   "execution_count": 7,
   "id": "2129e648",
   "metadata": {},
   "outputs": [
    {
     "data": {
      "text/html": [
       "<div>\n",
       "<style scoped>\n",
       "    .dataframe tbody tr th:only-of-type {\n",
       "        vertical-align: middle;\n",
       "    }\n",
       "\n",
       "    .dataframe tbody tr th {\n",
       "        vertical-align: top;\n",
       "    }\n",
       "\n",
       "    .dataframe thead th {\n",
       "        text-align: right;\n",
       "    }\n",
       "</style>\n",
       "<table border=\"1\" class=\"dataframe\">\n",
       "  <thead>\n",
       "    <tr style=\"text-align: right;\">\n",
       "      <th></th>\n",
       "      <th>Unnamed: 0</th>\n",
       "      <th>Seq</th>\n",
       "      <th>Session_ID</th>\n",
       "      <th>sku</th>\n",
       "      <th>behavior_type</th>\n",
       "      <th>category</th>\n",
       "      <th>time_interval</th>\n",
       "      <th>dwell_time</th>\n",
       "    </tr>\n",
       "  </thead>\n",
       "  <tbody>\n",
       "    <tr>\n",
       "      <th>1429292</th>\n",
       "      <td>27808451</td>\n",
       "      <td>1429292</td>\n",
       "      <td>999997</td>\n",
       "      <td>1842770</td>\n",
       "      <td>9</td>\n",
       "      <td>687</td>\n",
       "      <td>395</td>\n",
       "      <td>18</td>\n",
       "    </tr>\n",
       "    <tr>\n",
       "      <th>1429293</th>\n",
       "      <td>27808454</td>\n",
       "      <td>1429293</td>\n",
       "      <td>999997</td>\n",
       "      <td>876228</td>\n",
       "      <td>9</td>\n",
       "      <td>691</td>\n",
       "      <td>14</td>\n",
       "      <td>24</td>\n",
       "    </tr>\n",
       "    <tr>\n",
       "      <th>1429294</th>\n",
       "      <td>27808491</td>\n",
       "      <td>1429294</td>\n",
       "      <td>999999</td>\n",
       "      <td>1916099</td>\n",
       "      <td>9</td>\n",
       "      <td>4840</td>\n",
       "      <td>16</td>\n",
       "      <td>6</td>\n",
       "    </tr>\n",
       "    <tr>\n",
       "      <th>1429295</th>\n",
       "      <td>27808495</td>\n",
       "      <td>1429295</td>\n",
       "      <td>999999</td>\n",
       "      <td>2269495</td>\n",
       "      <td>9</td>\n",
       "      <td>736</td>\n",
       "      <td>62</td>\n",
       "      <td>31</td>\n",
       "    </tr>\n",
       "    <tr>\n",
       "      <th>1429296</th>\n",
       "      <td>27808502</td>\n",
       "      <td>1429296</td>\n",
       "      <td>999999</td>\n",
       "      <td>659819</td>\n",
       "      <td>9</td>\n",
       "      <td>7371</td>\n",
       "      <td>19</td>\n",
       "      <td>6</td>\n",
       "    </tr>\n",
       "  </tbody>\n",
       "</table>\n",
       "</div>"
      ],
      "text/plain": [
       "         Unnamed: 0      Seq  Session_ID      sku  behavior_type  category  \\\n",
       "1429292    27808451  1429292      999997  1842770              9       687   \n",
       "1429293    27808454  1429293      999997   876228              9       691   \n",
       "1429294    27808491  1429294      999999  1916099              9      4840   \n",
       "1429295    27808495  1429295      999999  2269495              9       736   \n",
       "1429296    27808502  1429296      999999   659819              9      7371   \n",
       "\n",
       "         time_interval  dwell_time  \n",
       "1429292            395          18  \n",
       "1429293             14          24  \n",
       "1429294             16           6  \n",
       "1429295             62          31  \n",
       "1429296             19           6  "
      ]
     },
     "execution_count": 7,
     "metadata": {},
     "output_type": "execute_result"
    }
   ],
   "source": [
    "df.tail()"
   ]
  },
  {
   "cell_type": "code",
   "execution_count": 6,
   "id": "dd8a379e",
   "metadata": {},
   "outputs": [],
   "source": [
    "df_val = df[df['Session_ID'] < 500000]"
   ]
  },
  {
   "cell_type": "markdown",
   "id": "594567ad",
   "metadata": {},
   "source": [
    "## Split Session"
   ]
  },
  {
   "cell_type": "code",
   "execution_count": 8,
   "id": "42710bb9",
   "metadata": {},
   "outputs": [
    {
     "data": {
      "text/plain": [
       "286306"
      ]
     },
     "execution_count": 8,
     "metadata": {},
     "output_type": "execute_result"
    }
   ],
   "source": [
    "df_val = df[df['Session_ID'] > 800000]\n",
    "len(df_val)"
   ]
  },
  {
   "cell_type": "code",
   "execution_count": 9,
   "id": "eca70f14",
   "metadata": {},
   "outputs": [
    {
     "data": {
      "text/plain": [
       "1142991"
      ]
     },
     "execution_count": 9,
     "metadata": {},
     "output_type": "execute_result"
    }
   ],
   "source": [
    "df_train = df[df['Session_ID'] <= 800000]\n",
    "len(df_train)"
   ]
  },
  {
   "cell_type": "code",
   "execution_count": 10,
   "id": "0dec771a",
   "metadata": {},
   "outputs": [],
   "source": [
    "class Dataset(object):\n",
    "    def __init__(self, path, sep=',', session_key='Session_ID', item_key='sku', time_key='Seq', n_sample=-1, itemmap=None, itemstamp=None, time_sort=True):\n",
    "        # Read csv\n",
    "        #self.df = pd.read_csv(path, sep=sep, dtype={session_key: int, item_key: int, time_key: float})\n",
    "        self.df = path\n",
    "        self.session_key = session_key\n",
    "        self.item_key = item_key\n",
    "        self.time_key = time_key\n",
    "        self.time_sort = time_sort\n",
    "        if n_sample > 0:\n",
    "            self.df = self.df[:n_sample]\n",
    "\n",
    "        # Add colummn item index to data\n",
    "        self.add_item_indices(itemmap=itemmap)\n",
    "        \"\"\"\n",
    "        Sort the df by time, and then by session ID. That is, df is sorted by session ID and\n",
    "        clicks within a session are next to each other, where the clicks within a session are time-ordered.\n",
    "        \"\"\"\n",
    "        self.df.sort_values([session_key, time_key], inplace=True)\n",
    "        self.click_offsets = self.get_click_offset()\n",
    "        self.session_idx_arr = self.order_session_idx()\n",
    "\n",
    "    def add_item_indices(self, itemmap=None):\n",
    "        \"\"\"\n",
    "        Add item index column named \"item_idx\" to the df\n",
    "        Args:\n",
    "            itemmap (pd.DataFrame): mapping between the item Ids and indices\n",
    "        \"\"\"\n",
    "        if itemmap is None:\n",
    "            item_ids = self.df[self.item_key].unique()  # type is numpy.ndarray\n",
    "            item2idx = pd.Series(data=np.arange(len(item_ids)),\n",
    "                                 index=item_ids)\n",
    "            # Build itemmap is a DataFrame that have 2 columns (self.item_key, 'item_idx)\n",
    "            itemmap = pd.DataFrame({self.item_key: item_ids,\n",
    "                                   'item_idx': item2idx[item_ids].values})\n",
    "        self.itemmap = itemmap\n",
    "        self.df = pd.merge(self.df, self.itemmap, on=self.item_key, how='inner')\n",
    "\n",
    "    def get_click_offset(self):\n",
    "        \"\"\"\n",
    "        self.df[self.session_key] return a set of session_key\n",
    "        self.df[self.session_key].nunique() return the size of session_key set (int)\n",
    "        self.df.groupby(self.session_key).size() return the size of each session_id\n",
    "        self.df.groupby(self.session_key).size().cumsum() retunn cumulative sum\n",
    "        \"\"\"\n",
    "        offsets = np.zeros(self.df[self.session_key].nunique() + 1, dtype=np.int32)\n",
    "        offsets[1:] = self.df.groupby(self.session_key).size().cumsum()\n",
    "        return offsets\n",
    "\n",
    "    def order_session_idx(self):\n",
    "        if self.time_sort:\n",
    "            sessions_start_time = self.df.groupby(self.session_key)[self.time_key].min().values\n",
    "            session_idx_arr = np.argsort(sessions_start_time)\n",
    "        else:\n",
    "            session_idx_arr = np.arange(self.df[self.session_key].nunique())\n",
    "        return session_idx_arr\n",
    "\n",
    "    @property\n",
    "    def items(self):\n",
    "        return self.itemmap[self.item_key].unique()"
   ]
  },
  {
   "cell_type": "code",
   "execution_count": 11,
   "id": "b2a7ba6b",
   "metadata": {},
   "outputs": [],
   "source": [
    "class DataLoader():\n",
    "    def __init__(self, dataset, batch_size=50):\n",
    "        \"\"\"\n",
    "        A class for creating session-parallel mini-batches.\n",
    "\n",
    "        Args:\n",
    "             dataset (SessionDataset): the session dataset to generate the batches from\n",
    "             batch_size (int): size of the batch\n",
    "        \"\"\"\n",
    "        self.dataset = dataset\n",
    "        self.batch_size = batch_size\n",
    "\n",
    "    def __iter__(self):\n",
    "        \"\"\" Returns the iterator for producing session-parallel training mini-batches.\n",
    "\n",
    "        Yields:\n",
    "            input (B,): torch.FloatTensor. Item indices that will be encoded as one-hot vectors later.\n",
    "            target (B,): a Variable that stores the target item indices\n",
    "            masks: Numpy array indicating the positions of the sessions to be terminated\n",
    "        \"\"\"\n",
    "        # initializations\n",
    "        df = self.dataset.df\n",
    "        click_offsets = self.dataset.click_offsets\n",
    "        session_idx_arr = self.dataset.session_idx_arr\n",
    "\n",
    "        iters = np.arange(self.batch_size)\n",
    "        maxiter = iters.max()\n",
    "        start = click_offsets[session_idx_arr[iters]]\n",
    "        end = click_offsets[session_idx_arr[iters] + 1]\n",
    "        mask = []  # indicator for the sessions to be terminated\n",
    "        finished = False\n",
    "\n",
    "        while not finished:\n",
    "            minlen = (end - start).min()\n",
    "            # Item indices(for embedding) for clicks where the first sessions start\n",
    "            idx_target = df.item_idx.values[start]\n",
    "\n",
    "            for i in range(minlen - 1):\n",
    "                # Build inputs & targets\n",
    "                idx_input = idx_target\n",
    "                idx_target = df.item_idx.values[start + i + 1]\n",
    "                input = torch.LongTensor(idx_input)\n",
    "                target = torch.LongTensor(idx_target)\n",
    "                yield input, target, mask\n",
    "\n",
    "            # click indices where a particular session meets second-to-last element\n",
    "            start = start + (minlen - 1)\n",
    "            # see if how many sessions should terminate\n",
    "            mask = np.arange(len(iters))[(end - start) <= 1]\n",
    "            for idx in mask:\n",
    "                maxiter += 1\n",
    "                if maxiter >= len(click_offsets) - 1:\n",
    "                    finished = True\n",
    "                    break\n",
    "                # update the next starting/ending point\n",
    "                iters[idx] = maxiter\n",
    "                start[idx] = click_offsets[session_idx_arr[maxiter]]\n",
    "                end[idx] = click_offsets[session_idx_arr[maxiter] + 1]"
   ]
  },
  {
   "cell_type": "code",
   "execution_count": 12,
   "id": "3065fc15",
   "metadata": {},
   "outputs": [],
   "source": [
    "train_data = Dataset(df_train)\n",
    "valid_data = Dataset(df_val)"
   ]
  },
  {
   "cell_type": "code",
   "execution_count": 13,
   "id": "6b25a616",
   "metadata": {},
   "outputs": [],
   "source": [
    "class GRU4REC(nn.Module):\n",
    "    def __init__(self, input_size, hidden_size, output_size, num_layers=1, final_act='tanh',\n",
    "                 dropout_hidden=.5, dropout_input=0, batch_size=50, embedding_dim=-1, use_cuda=False):\n",
    "        super(GRU4REC, self).__init__()\n",
    "        self.input_size = input_size\n",
    "        self.hidden_size = hidden_size\n",
    "        self.output_size = output_size\n",
    "        self.num_layers = num_layers\n",
    "        self.dropout_hidden = dropout_hidden\n",
    "        self.dropout_input = dropout_input\n",
    "        self.embedding_dim = embedding_dim\n",
    "        self.batch_size = batch_size\n",
    "        self.use_cuda = use_cuda\n",
    "        self.device = torch.device('cuda' if use_cuda else 'cpu')\n",
    "        self.onehot_buffer = self.init_emb()\n",
    "        self.h2o = nn.Linear(hidden_size, output_size)\n",
    "        self.create_final_activation(final_act)\n",
    "        if self.embedding_dim != -1:\n",
    "            self.look_up = nn.Embedding(input_size, self.embedding_dim)\n",
    "            self.gru = nn.GRU(self.embedding_dim, self.hidden_size, self.num_layers, dropout=self.dropout_hidden)\n",
    "        else:\n",
    "            self.gru = nn.GRU(self.input_size, self.hidden_size, self.num_layers, dropout=self.dropout_hidden)\n",
    "        self = self.to(self.device)\n",
    "\n",
    "    def create_final_activation(self, final_act):\n",
    "        if final_act == 'tanh':\n",
    "            self.final_activation = nn.Tanh()\n",
    "        elif final_act == 'relu':\n",
    "            self.final_activation = nn.ReLU()\n",
    "        elif final_act == 'softmax':\n",
    "            self.final_activation = nn.Softmax()\n",
    "        elif final_act == 'softmax_logit':\n",
    "            self.final_activation = nn.LogSoftmax()\n",
    "        elif final_act.startswith('elu-'):\n",
    "            self.final_activation = nn.ELU(alpha=float(final_act.split('-')[1]))\n",
    "        elif final_act.startswith('leaky-'):\n",
    "            self.final_activation = nn.LeakyReLU(negative_slope=float(final_act.split('-')[1]))\n",
    "\n",
    "    def forward(self, input, hidden):\n",
    "        '''\n",
    "        Args:\n",
    "            input (B,): a batch of item indices from a session-parallel mini-batch.\n",
    "            target (B,): torch.LongTensor of next item indices from a session-parallel mini-batch.\n",
    "\n",
    "        Returns:\n",
    "            logit (B,C): Variable that stores the logits for the next items in the session-parallel mini-batch\n",
    "            hidden: GRU hidden state\n",
    "        '''\n",
    "\n",
    "        if self.embedding_dim == -1:\n",
    "            embedded = self.onehot_encode(input)\n",
    "            if self.training and self.dropout_input > 0: embedded = self.embedding_dropout(embedded)\n",
    "            embedded = embedded.unsqueeze(0)\n",
    "        else:\n",
    "            embedded = input.unsqueeze(0)\n",
    "            embedded = self.look_up(embedded)\n",
    "\n",
    "        output, hidden = self.gru(embedded, hidden) #(num_layer, B, H)\n",
    "        output = output.view(-1, output.size(-1))  #(B,H)\n",
    "        logit = self.final_activation(self.h2o(output))\n",
    "\n",
    "        return logit, hidden\n",
    "\n",
    "    def init_emb(self):\n",
    "        '''\n",
    "        Initialize the one_hot embedding buffer, which will be used for producing the one-hot embeddings efficiently\n",
    "        '''\n",
    "        onehot_buffer = torch.FloatTensor(self.batch_size, self.output_size)\n",
    "        onehot_buffer = onehot_buffer.to(self.device)\n",
    "        return onehot_buffer\n",
    "\n",
    "    def onehot_encode(self, input):\n",
    "        \"\"\"\n",
    "        Returns a one-hot vector corresponding to the input\n",
    "        Args:\n",
    "            input (B,): torch.LongTensor of item indices\n",
    "            buffer (B,output_size): buffer that stores the one-hot vector\n",
    "        Returns:\n",
    "            one_hot (B,C): torch.FloatTensor of one-hot vectors\n",
    "        \"\"\"\n",
    "        self.onehot_buffer.zero_()\n",
    "        index = input.view(-1, 1)\n",
    "        one_hot = self.onehot_buffer.scatter_(1, index, 1)\n",
    "        return one_hot\n",
    "\n",
    "    def embedding_dropout(self, input):\n",
    "        p_drop = torch.Tensor(input.size(0), 1).fill_(1 - self.dropout_input)\n",
    "        mask = torch.bernoulli(p_drop).expand_as(input) / (1 - self.dropout_input)\n",
    "        mask = mask.to(self.device)\n",
    "        input = input * mask\n",
    "        return input\n",
    "\n",
    "    def init_hidden(self):\n",
    "        '''\n",
    "        Initialize the hidden state of the GRU\n",
    "        '''\n",
    "        try:\n",
    "            h0 = torch.zeros(self.num_layers, self.batch_size, self.hidden_size).to(self.device)\n",
    "        except:\n",
    "            self.device = 'cpu'\n",
    "            h0 = torch.zeros(self.num_layers, self.batch_size, self.hidden_size).to(self.device)\n",
    "        return h0"
   ]
  },
  {
   "cell_type": "markdown",
   "id": "47e577ad",
   "metadata": {},
   "source": [
    "## Parameter Settings"
   ]
  },
  {
   "cell_type": "code",
   "execution_count": 14,
   "id": "50f55988",
   "metadata": {},
   "outputs": [],
   "source": [
    "input_size = len(train_data.items)\n",
    "hidden_size = 1000\n",
    "num_layers = 1\n",
    "output_size = input_size\n",
    "batch_size = 64\n",
    "dropout_input = 0\n",
    "dropout_hidden = 0.5\n",
    "embedding_dim = -1\n",
    "final_act = 'tanh'\n",
    "loss_type = 'TOP1-max'\n",
    "optimizer_type = 'Adagrad'\n",
    "lr = 0.01\n",
    "weight_decay = 0\n",
    "momentum = 0\n",
    "eps = 1e-6\n",
    "n_epochs = 10\n",
    "time_sort = False\n",
    "sigma = None"
   ]
  },
  {
   "cell_type": "code",
   "execution_count": 15,
   "id": "ba168975",
   "metadata": {},
   "outputs": [
    {
     "data": {
      "text/plain": [
       "103915"
      ]
     },
     "execution_count": 15,
     "metadata": {},
     "output_type": "execute_result"
    }
   ],
   "source": [
    "input_size"
   ]
  },
  {
   "cell_type": "code",
   "execution_count": 16,
   "id": "ad254e54",
   "metadata": {},
   "outputs": [],
   "source": [
    "cuda = torch.cuda.is_available()\n",
    "#cuda = False"
   ]
  },
  {
   "cell_type": "code",
   "execution_count": 18,
   "id": "6af6f3cb",
   "metadata": {},
   "outputs": [],
   "source": [
    "seed = 0\n",
    "if cuda:\n",
    "    torch.cuda.manual_seed(seed)"
   ]
  },
  {
   "cell_type": "code",
   "execution_count": 23,
   "id": "298e7492",
   "metadata": {},
   "outputs": [],
   "source": [
    "class LossFunction(nn.Module):\n",
    "    def __init__(self, loss_type='TOP1', use_cuda=False):\n",
    "        \"\"\" An abstract loss function that can supports custom loss functions compatible with PyTorch.\"\"\"\n",
    "        super(LossFunction, self).__init__()\n",
    "        self.loss_type = loss_type\n",
    "        self.use_cuda = use_cuda\n",
    "        if loss_type == 'CrossEntropy':\n",
    "            self._loss_fn = SampledCrossEntropyLoss(use_cuda)\n",
    "        elif loss_type == 'TOP1':\n",
    "            self._loss_fn = TOP1Loss()\n",
    "        elif loss_type == 'BPR':\n",
    "            self._loss_fn = BPRLoss()\n",
    "        elif loss_type == 'TOP1-max':\n",
    "            self._loss_fn = TOP1_max()\n",
    "        elif loss_type == 'BPR-max':\n",
    "            self._loss_fn = BPR_max()\n",
    "        else:\n",
    "            raise NotImplementedError\n",
    "\n",
    "    def forward(self, logit):\n",
    "        return self._loss_fn(logit)\n",
    "\n",
    "\n",
    "class SampledCrossEntropyLoss(nn.Module):\n",
    "    \"\"\" CrossEntropyLoss with n_classes = batch_size = the number of samples in the session-parallel mini-batch \"\"\"\n",
    "    def __init__(self, use_cuda):\n",
    "        \"\"\"\n",
    "        Args:\n",
    "             use_cuda (bool): whether to use cuda or not\n",
    "        \"\"\"\n",
    "        super(SampledCrossEntropyLoss, self).__init__()\n",
    "        self.xe_loss = nn.CrossEntropyLoss()\n",
    "        self.use_cuda = use_cuda\n",
    "\n",
    "    def forward(self, logit):\n",
    "        batch_size = logit.size(1)\n",
    "        target = Variable(torch.arange(batch_size).long())\n",
    "        if self.use_cuda:\n",
    "            target = target.cuda()\n",
    "\n",
    "        return self.xe_loss(logit, target)\n",
    "\n",
    "\n",
    "class BPRLoss(nn.Module):\n",
    "    def __init__(self):\n",
    "        super(BPRLoss, self).__init__()\n",
    "\n",
    "    def forward(self, logit):\n",
    "        \"\"\"\n",
    "        Args:\n",
    "            logit (BxB): Variable that stores the logits for the items in the mini-batch\n",
    "                         The first dimension corresponds to the batches, and the second\n",
    "                         dimension corresponds to sampled number of items to evaluate\n",
    "        \"\"\"\n",
    "        # differences between the item scores\n",
    "        diff = logit.diag().view(-1, 1).expand_as(logit) - logit\n",
    "        # final loss\n",
    "        loss = -torch.mean(F.logsigmoid(diff))\n",
    "        return loss\n",
    "\n",
    "\n",
    "class BPR_max(nn.Module):\n",
    "    def __init__(self):\n",
    "        super(BPR_max, self).__init__()\n",
    "    def forward(self, logit):\n",
    "        logit_softmax = F.softmax(logit, dim=1)\n",
    "        diff = logit.diag().view(-1, 1).expand_as(logit) - logit\n",
    "        loss = -torch.log(torch.mean(logit_softmax * torch.sigmoid(diff)))\n",
    "        return loss\n",
    "\n",
    "\n",
    "class TOP1Loss(nn.Module):\n",
    "    def __init__(self):\n",
    "        super(TOP1Loss, self).__init__()\n",
    "    def forward(self, logit):\n",
    "        \"\"\"\n",
    "        Args:\n",
    "            logit (BxB): Variable that stores the logits for the items in the mini-batch\n",
    "                         The first dimension corresponds to the batches, and the second\n",
    "                         dimension corresponds to sampled number of items to evaluate\n",
    "        \"\"\"\n",
    "        diff = -(logit.diag().view(-1, 1).expand_as(logit) - logit)\n",
    "        loss = torch.sigmoid(diff).mean() + torch.sigmoid(logit ** 2).mean()\n",
    "        return loss\n",
    "\n",
    "\n",
    "class TOP1_max(nn.Module):\n",
    "    def __init__(self):\n",
    "        super(TOP1_max, self).__init__()\n",
    "\n",
    "    def forward(self, logit):\n",
    "        logit_softmax = F.softmax(logit, dim=1)\n",
    "        diff = -(logit.diag().view(-1, 1).expand_as(logit) - logit)\n",
    "        loss = torch.mean(logit_softmax * (torch.sigmoid(diff) + torch.sigmoid(logit ** 2)))\n",
    "        return loss\n"
   ]
  },
  {
   "cell_type": "code",
   "execution_count": 24,
   "id": "69eac1b6",
   "metadata": {},
   "outputs": [],
   "source": [
    "loss_function = LossFunction(loss_type=loss_type, use_cuda=cuda)"
   ]
  },
  {
   "cell_type": "markdown",
   "id": "35035f38",
   "metadata": {},
   "source": [
    "## Training and Evaluation"
   ]
  },
  {
   "cell_type": "code",
   "execution_count": 25,
   "id": "975a5238",
   "metadata": {},
   "outputs": [
    {
     "name": "stderr",
     "output_type": "stream",
     "text": [
      "/home/islab/miniconda3/envs/lab/lib/python3.7/site-packages/torch/nn/modules/rnn.py:51: UserWarning: dropout option adds dropout after all but last recurrent layer, so non-zero dropout expects num_layers greater than 1, but got dropout=0.5 and num_layers=1\n",
      "  \"num_layers={}\".format(dropout, num_layers))\n"
     ]
    }
   ],
   "source": [
    "model = GRU4REC(input_size, hidden_size, output_size, final_act=final_act,\n",
    "                            num_layers=num_layers, use_cuda=cuda, batch_size=batch_size,\n",
    "                            dropout_input=dropout_input, dropout_hidden=dropout_hidden, embedding_dim=embedding_dim)"
   ]
  },
  {
   "cell_type": "code",
   "execution_count": 26,
   "id": "4268a461",
   "metadata": {},
   "outputs": [],
   "source": [
    "def init_model(model):\n",
    "    global sigma\n",
    "    if sigma is not None:\n",
    "        for p in model.parameters():\n",
    "            if sigma != -1 and sigma != -2:\n",
    "                sigma = sigma\n",
    "                p.data.uniform_(-sigma, sigma)\n",
    "            elif len(list(p.size())) > 1:\n",
    "                sigma = np.sqrt(6.0 / (p.size(0) + p.size(1)))\n",
    "                if sigma == -1:\n",
    "                    p.data.uniform_(-sigma, sigma)\n",
    "                else:\n",
    "                    p.data.uniform_(0, sigma)"
   ]
  },
  {
   "cell_type": "code",
   "execution_count": 27,
   "id": "c633e390",
   "metadata": {},
   "outputs": [],
   "source": [
    "init_model(model)"
   ]
  },
  {
   "cell_type": "code",
   "execution_count": 28,
   "id": "3bccff75",
   "metadata": {},
   "outputs": [],
   "source": [
    "class Optimizer:\n",
    "    def __init__(self, params, optimizer_type='Adagrad', lr=.05,\n",
    "                 momentum=0, weight_decay=0, eps=1e-6):\n",
    "        '''\n",
    "        An abstract optimizer class for handling various kinds of optimizers.\n",
    "        You can specify the optimizer type and related parameters as you want.\n",
    "        Usage is exactly the same as an instance of torch.optim\n",
    "\n",
    "        Args:\n",
    "            params: torch.nn.Parameter. The NN parameters to optimize\n",
    "            optimizer_type: type of the optimizer to use\n",
    "            lr: learning rate\n",
    "            momentum: momentum, if needed\n",
    "            weight_decay: weight decay, if needed. Equivalent to L2 regulariztion.\n",
    "            eps: eps parameter, if needed.\n",
    "        '''\n",
    "        if optimizer_type == 'RMSProp':\n",
    "            self.optimizer = optim.RMSprop(params, lr=lr, eps=eps, weight_decay=weight_decay, momentum=momentum)\n",
    "        elif optimizer_type == 'Adagrad':\n",
    "            self.optimizer = optim.Adagrad(params, lr=lr, weight_decay=weight_decay)\n",
    "        elif optimizer_type == 'Adadelta':\n",
    "            self.optimizer = optim.Adadelta(params, lr=lr, eps=eps, weight_decay=weight_decay)\n",
    "        elif optimizer_type == 'Adam':\n",
    "            self.optimizer = optim.Adam(params, lr=lr, eps=eps, weight_decay=weight_decay)\n",
    "        elif optimizer_type == 'SGD':\n",
    "            self.optimizer = optim.SGD(params, lr=lr, momentum=momentum, weight_decay=weight_decay)\n",
    "        else:\n",
    "            raise NotImplementedError\n",
    "\n",
    "    def zero_grad(self):\n",
    "        self.optimizer.zero_grad()\n",
    "\n",
    "    def step(self):\n",
    "        self.optimizer.step()"
   ]
  },
  {
   "cell_type": "code",
   "execution_count": 30,
   "id": "16098617",
   "metadata": {},
   "outputs": [],
   "source": [
    "optimizer = Optimizer(model.parameters(), optimizer_type=optimizer_type, lr=lr, weight_decay=weight_decay, momentum=momentum, eps=eps)"
   ]
  },
  {
   "cell_type": "code",
   "execution_count": 31,
   "id": "39deb28b",
   "metadata": {},
   "outputs": [],
   "source": [
    "def get_recall(indices, targets): #recall --> wether next item in session is within top K=20 recommended items or not\n",
    "    \"\"\"\n",
    "    Calculates the recall score for the given predictions and targets\n",
    "    Args:\n",
    "        indices (Bxk): torch.LongTensor. top-k indices predicted by the model.\n",
    "        targets (B): torch.LongTensor. actual target indices.\n",
    "    Returns:\n",
    "        recall (float): the recall score\n",
    "    \"\"\"\n",
    "    targets = targets.view(-1, 1).expand_as(indices)\n",
    "    hits = (targets == indices).nonzero()\n",
    "    if len(hits) == 0:\n",
    "        return 0\n",
    "    n_hits = (targets == indices).nonzero()[:, :-1].size(0)\n",
    "    recall = float(n_hits) / targets.size(0)\n",
    "    return recall"
   ]
  },
  {
   "cell_type": "code",
   "execution_count": 32,
   "id": "ffb0f453",
   "metadata": {},
   "outputs": [],
   "source": [
    "def get_mrr(indices, targets): #Mean Receiprocal Rank --> Average of rank of next item in the session.\n",
    "    \"\"\"\n",
    "    Calculates the MRR score for the given predictions and targets\n",
    "    Args:\n",
    "        indices (Bxk): torch.LongTensor. top-k indices predicted by the model.\n",
    "        targets (B): torch.LongTensor. actual target indices.\n",
    "    Returns:\n",
    "        mrr (float): the mrr score\n",
    "    \"\"\"\n",
    "    tmp = targets.view(-1, 1)\n",
    "    targets = tmp.expand_as(indices)\n",
    "    hits = (targets == indices).nonzero()\n",
    "    ranks = hits[:, -1] + 1\n",
    "    ranks = ranks.float()\n",
    "    rranks = torch.reciprocal(ranks)\n",
    "    mrr = torch.sum(rranks).data / targets.size(0)\n",
    "    return mrr"
   ]
  },
  {
   "cell_type": "code",
   "execution_count": 33,
   "id": "6fd55095",
   "metadata": {},
   "outputs": [],
   "source": [
    "def evaluate(indices, targets, k=10):\n",
    "    \"\"\"\n",
    "    Evaluates the model using Recall@K, MRR@K scores.\n",
    "\n",
    "    Args:\n",
    "        logits (B,C): torch.LongTensor. The predicted logit for the next items.\n",
    "        targets (B): torch.LongTensor. actual target indices.\n",
    "\n",
    "    Returns:\n",
    "        recall (float): the recall score\n",
    "        mrr (float): the mrr score\n",
    "    \"\"\"\n",
    "    _, indices = torch.topk(indices, k, -1)\n",
    "    recall = get_recall(indices, targets)\n",
    "    mrr = get_mrr(indices, targets)\n",
    "    return recall, mrr"
   ]
  },
  {
   "cell_type": "code",
   "execution_count": 34,
   "id": "49e7d639",
   "metadata": {},
   "outputs": [],
   "source": [
    "class Evaluation(object):\n",
    "    def __init__(self, model, loss_func, use_cuda, k=10):\n",
    "        self.model = model\n",
    "        self.loss_func = loss_func\n",
    "        self.topk = k\n",
    "        self.device = torch.device('cuda' if use_cuda else 'cpu')\n",
    "        #self.device = torch.device('cpu')\n",
    "\n",
    "    def eval(self, eval_data, batch_size):\n",
    "        self.model.eval()\n",
    "        losses = []\n",
    "        recalls = []\n",
    "        mrrs = []\n",
    "        dataloader = DataLoader(eval_data, batch_size)\n",
    "        with torch.no_grad():\n",
    "            hidden = self.model.init_hidden()\n",
    "            for ii, (input, target, mask) in tqdm(enumerate(dataloader), total=len(dataloader.dataset.df) // dataloader.batch_size, miniters = 1000):\n",
    "            #for input, target, mask in dataloader:\n",
    "                input = input.to(self.device)\n",
    "                target = target.to(self.device)\n",
    "                logit, hidden = self.model(input, hidden)\n",
    "                logit_sampled = logit[:, target.view(-1)]\n",
    "                loss = self.loss_func(logit_sampled)\n",
    "                recall, mrr = evaluate(logit, target, k=self.topk)\n",
    "\n",
    "                # torch.Tensor.item() to get a Python number from a tensor containing a single value\n",
    "                losses.append(loss.item())\n",
    "                recalls.append(recall)\n",
    "                mrrs.append(mrr.cpu())\n",
    "        mean_losses = np.mean(losses)\n",
    "        mean_recall = np.mean(recalls)\n",
    "        mean_mrr = np.mean(mrrs)\n",
    "        #mean_mrr = 0\n",
    "\n",
    "        return mean_losses, mean_recall, mean_mrr"
   ]
  },
  {
   "cell_type": "code",
   "execution_count": 35,
   "id": "8e2a0f45",
   "metadata": {},
   "outputs": [],
   "source": [
    "class Trainer(object):\n",
    "    def __init__(self, model, train_data, eval_data, optim, use_cuda, loss_func, batch_size):\n",
    "        self.model = model\n",
    "        self.train_data = train_data\n",
    "        self.eval_data = eval_data\n",
    "        self.optim = optim\n",
    "        self.loss_func = loss_func\n",
    "        self.evaluation = Evaluation(self.model, self.loss_func, use_cuda, k = 10)\n",
    "        self.device = torch.device('cuda' if use_cuda else 'cpu')\n",
    "        #self.device = torch.device('cpu')\n",
    "        self.batch_size = batch_size\n",
    "        #self.args = args\n",
    "\n",
    "    def train(self, start_epoch, end_epoch, start_time=None):\n",
    "        if start_time is None:\n",
    "            self.start_time = time.time()\n",
    "        else:\n",
    "            self.start_time = start_time\n",
    "\n",
    "        for epoch in range(start_epoch, end_epoch + 1):\n",
    "            st = time.time()\n",
    "            print('Start Epoch #', epoch)\n",
    "            train_loss = self.train_epoch(epoch)\n",
    "            loss, recall, mrr = self.evaluation.eval(self.eval_data, self.batch_size)\n",
    "\n",
    "\n",
    "            print(\"Epoch: {}, train loss: {:.4f}, loss: {:.4f}, recall: {:.4f}, mrr: {:.4f}, time: {}\".format(epoch, train_loss, loss, recall, mrr, time.time() - st))\n",
    "            checkpoint = {\n",
    "                'model': self.model,\n",
    "                'epoch': epoch,\n",
    "                'optim': self.optim,\n",
    "                'loss': loss,\n",
    "                'recall': recall,\n",
    "                'mrr': mrr\n",
    "            }\n",
    "            model_name = os.path.join('checkpoint', \"model_{0:05d}.pt\".format(epoch))\n",
    "            torch.save(checkpoint, model_name)\n",
    "            print(\"Save model as %s\" % model_name)\n",
    "\n",
    "\n",
    "    def train_epoch(self, epoch):\n",
    "        self.model.train()\n",
    "        losses = []\n",
    "\n",
    "        def reset_hidden(hidden, mask):\n",
    "            \"\"\"Helper function that resets hidden state when some sessions terminate\"\"\"\n",
    "            if len(mask) != 0:\n",
    "                hidden[:, mask, :] = 0\n",
    "            return hidden\n",
    "\n",
    "        hidden = self.model.init_hidden()\n",
    "        dataloader = DataLoader(self.train_data, self.batch_size)\n",
    "        #for ii,(data,label) in tqdm(enumerate(train_dataloader),total=len(train_data)):\n",
    "        for ii, (input, target, mask) in tqdm(enumerate(dataloader), total=len(dataloader.dataset.df) // dataloader.batch_size, miniters = 1000):\n",
    "            input = input.to(self.device)\n",
    "            target = target.to(self.device)\n",
    "            self.optim.zero_grad()\n",
    "            hidden = reset_hidden(hidden, mask).detach()\n",
    "            logit, hidden = self.model(input, hidden)\n",
    "            # output sampling\n",
    "            logit_sampled = logit[:, target.view(-1)]\n",
    "            loss = self.loss_func(logit_sampled)\n",
    "            losses.append(loss.item())\n",
    "            loss.backward()\n",
    "            self.optim.step()\n",
    "\n",
    "        mean_losses = np.mean(losses)\n",
    "        return mean_losses"
   ]
  },
  {
   "cell_type": "code",
   "execution_count": 36,
   "id": "2cea114d",
   "metadata": {},
   "outputs": [],
   "source": [
    "trainer = Trainer(model, train_data=train_data, eval_data=valid_data, optim=optimizer, use_cuda=cuda, loss_func=loss_function, batch_size=batch_size)"
   ]
  },
  {
   "cell_type": "code",
   "execution_count": 37,
   "id": "f6c6656d",
   "metadata": {},
   "outputs": [
    {
     "name": "stdout",
     "output_type": "stream",
     "text": [
      "#### START TRAINING....\n",
      "Start Epoch # 0\n"
     ]
    },
    {
     "name": "stderr",
     "output_type": "stream",
     "text": [
      " 66%|████████████████████████▎            | 11745/17859 [13:11<06:52, 14.84it/s]\n",
      " 66%|█████████████████████████▋             | 2947/4473 [00:33<00:17, 87.86it/s]\n",
      "/home/islab/miniconda3/envs/lab/lib/python3.7/site-packages/torch/serialization.py:292: UserWarning: Couldn't retrieve source code for container of type GRU4REC. It won't be checked for correctness upon loading.\n",
      "  \"type \" + obj.__name__ + \". It won't be checked \"\n",
      "/home/islab/miniconda3/envs/lab/lib/python3.7/site-packages/torch/serialization.py:292: UserWarning: Couldn't retrieve source code for container of type Linear. It won't be checked for correctness upon loading.\n",
      "  \"type \" + obj.__name__ + \". It won't be checked \"\n",
      "/home/islab/miniconda3/envs/lab/lib/python3.7/site-packages/torch/serialization.py:292: UserWarning: Couldn't retrieve source code for container of type Tanh. It won't be checked for correctness upon loading.\n",
      "  \"type \" + obj.__name__ + \". It won't be checked \"\n",
      "/home/islab/miniconda3/envs/lab/lib/python3.7/site-packages/torch/serialization.py:292: UserWarning: Couldn't retrieve source code for container of type GRU. It won't be checked for correctness upon loading.\n",
      "  \"type \" + obj.__name__ + \". It won't be checked \"\n"
     ]
    },
    {
     "name": "stdout",
     "output_type": "stream",
     "text": [
      "Epoch: 0, train loss: 0.0147, loss: 0.0157, recall: 0.0351, mrr: 0.0217, time: 825.2630684375763\n",
      "Save model as checkpoint/model_00000.pt\n",
      "Start Epoch # 1\n"
     ]
    },
    {
     "name": "stderr",
     "output_type": "stream",
     "text": [
      " 66%|████████████████████████▎            | 11745/17859 [13:10<06:51, 14.86it/s]\n",
      " 66%|█████████████████████████▋             | 2947/4473 [00:34<00:17, 86.36it/s]\n"
     ]
    },
    {
     "name": "stdout",
     "output_type": "stream",
     "text": [
      "Epoch: 1, train loss: 0.0137, loss: 0.0158, recall: 0.0284, mrr: 0.0167, time: 824.6891975402832\n",
      "Save model as checkpoint/model_00001.pt\n",
      "Start Epoch # 2\n"
     ]
    },
    {
     "name": "stderr",
     "output_type": "stream",
     "text": [
      " 66%|████████████████████████▎            | 11745/17859 [13:09<06:51, 14.87it/s]\n",
      " 66%|█████████████████████████▋             | 2947/4473 [00:34<00:17, 85.98it/s]\n"
     ]
    },
    {
     "name": "stdout",
     "output_type": "stream",
     "text": [
      "Epoch: 2, train loss: 0.0133, loss: 0.0159, recall: 0.0282, mrr: 0.0165, time: 824.1854999065399\n",
      "Save model as checkpoint/model_00002.pt\n",
      "Start Epoch # 3\n"
     ]
    },
    {
     "name": "stderr",
     "output_type": "stream",
     "text": [
      " 66%|████████████████████████▎            | 11745/17859 [13:09<06:51, 14.87it/s]\n",
      " 66%|█████████████████████████▋             | 2947/4473 [00:34<00:17, 85.09it/s]\n"
     ]
    },
    {
     "name": "stdout",
     "output_type": "stream",
     "text": [
      "Epoch: 3, train loss: 0.0131, loss: 0.0159, recall: 0.0304, mrr: 0.0180, time: 824.5830206871033\n",
      "Save model as checkpoint/model_00003.pt\n",
      "Start Epoch # 4\n"
     ]
    },
    {
     "name": "stderr",
     "output_type": "stream",
     "text": [
      " 66%|████████████████████████▎            | 11745/17859 [13:09<06:51, 14.87it/s]\n",
      " 66%|█████████████████████████▋             | 2947/4473 [00:34<00:17, 86.29it/s]\n"
     ]
    },
    {
     "name": "stdout",
     "output_type": "stream",
     "text": [
      "Epoch: 4, train loss: 0.0130, loss: 0.0159, recall: 0.0321, mrr: 0.0189, time: 824.2232646942139\n",
      "Save model as checkpoint/model_00004.pt\n",
      "Start Epoch # 5\n"
     ]
    },
    {
     "name": "stderr",
     "output_type": "stream",
     "text": [
      " 66%|████████████████████████▎            | 11745/17859 [13:09<06:51, 14.87it/s]\n",
      " 66%|█████████████████████████▋             | 2947/4473 [00:34<00:17, 86.12it/s]\n"
     ]
    },
    {
     "name": "stdout",
     "output_type": "stream",
     "text": [
      "Epoch: 5, train loss: 0.0129, loss: 0.0159, recall: 0.0345, mrr: 0.0205, time: 824.2602109909058\n",
      "Save model as checkpoint/model_00005.pt\n",
      "Start Epoch # 6\n"
     ]
    },
    {
     "name": "stderr",
     "output_type": "stream",
     "text": [
      " 66%|████████████████████████▎            | 11745/17859 [13:09<06:51, 14.87it/s]\n",
      " 66%|█████████████████████████▋             | 2947/4473 [00:34<00:17, 85.97it/s]\n"
     ]
    },
    {
     "name": "stdout",
     "output_type": "stream",
     "text": [
      "Epoch: 6, train loss: 0.0128, loss: 0.0159, recall: 0.0359, mrr: 0.0213, time: 824.2138323783875\n",
      "Save model as checkpoint/model_00006.pt\n",
      "Start Epoch # 7\n"
     ]
    },
    {
     "name": "stderr",
     "output_type": "stream",
     "text": [
      " 66%|████████████████████████▎            | 11745/17859 [13:09<06:51, 14.87it/s]\n",
      " 66%|█████████████████████████▋             | 2947/4473 [00:34<00:17, 85.88it/s]\n"
     ]
    },
    {
     "name": "stdout",
     "output_type": "stream",
     "text": [
      "Epoch: 7, train loss: 0.0128, loss: 0.0159, recall: 0.0375, mrr: 0.0224, time: 824.2780950069427\n",
      "Save model as checkpoint/model_00007.pt\n",
      "Start Epoch # 8\n"
     ]
    },
    {
     "name": "stderr",
     "output_type": "stream",
     "text": [
      " 66%|████████████████████████▎            | 11745/17859 [13:09<06:51, 14.87it/s]\n",
      " 66%|█████████████████████████▋             | 2947/4473 [00:34<00:17, 85.39it/s]\n"
     ]
    },
    {
     "name": "stdout",
     "output_type": "stream",
     "text": [
      "Epoch: 8, train loss: 0.0128, loss: 0.0159, recall: 0.0384, mrr: 0.0229, time: 824.363254070282\n",
      "Save model as checkpoint/model_00008.pt\n",
      "Start Epoch # 9\n"
     ]
    },
    {
     "name": "stderr",
     "output_type": "stream",
     "text": [
      " 66%|████████████████████████▎            | 11745/17859 [13:09<06:51, 14.87it/s]\n",
      " 66%|█████████████████████████▋             | 2947/4473 [00:33<00:17, 87.06it/s]\n"
     ]
    },
    {
     "name": "stdout",
     "output_type": "stream",
     "text": [
      "Epoch: 9, train loss: 0.0127, loss: 0.0159, recall: 0.0394, mrr: 0.0236, time: 823.8568801879883\n",
      "Save model as checkpoint/model_00009.pt\n"
     ]
    }
   ],
   "source": [
    "print('#### START TRAINING....')\n",
    "trainer.train(0, n_epochs - 1)"
   ]
  },
  {
   "cell_type": "code",
   "execution_count": null,
   "id": "ad463f53",
   "metadata": {},
   "outputs": [],
   "source": []
  }
 ],
 "metadata": {
  "kernelspec": {
   "display_name": "Python 3 (ipykernel)",
   "language": "python",
   "name": "python3"
  },
  "language_info": {
   "codemirror_mode": {
    "name": "ipython",
    "version": 3
   },
   "file_extension": ".py",
   "mimetype": "text/x-python",
   "name": "python",
   "nbconvert_exporter": "python",
   "pygments_lexer": "ipython3",
   "version": "3.7.3"
  }
 },
 "nbformat": 4,
 "nbformat_minor": 5
}
