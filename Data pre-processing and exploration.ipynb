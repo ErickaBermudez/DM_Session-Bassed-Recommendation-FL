{
 "cells": [
  {
   "cell_type": "markdown",
   "id": "daadc9ca",
   "metadata": {},
   "source": [
    "# Data exploration"
   ]
  },
  {
   "cell_type": "markdown",
   "id": "9c7d4221",
   "metadata": {},
   "source": [
    "The data can be found in the following link: https://drive.google.com/drive/folders/1kz7Dkq5jQ8WR82xBITyQ7S4vUgBFNsDn \n",
    "\n",
    "From \"Hierarchical User Profiling for E-commerce Recommender Systems\" by Gu, Yulong and Ding, Zhuoye and Wang, Shuaiqiang and Yin, Dawei pubished in Proceedings of the 13th International Conference on Web Search and Data Mining, 2020. "
   ]
  },
  {
   "cell_type": "markdown",
   "id": "4194619e",
   "metadata": {},
   "source": [
    "## Data description \n",
    "Each line is a sequence of a user’s micro behaviors in a session. \n",
    "\n",
    "Each micro-behavior is in the format of \"**sku + behavior_type + category + time_interval + dwell_time**\", where \"SKU\" is id of the product, \"behavior_type\" is the type of micro-behavior, \"category“ is the leaf category of the product, time_interval is the time interval between two consecutive micro behiaviors, dwell_time is the dwell time in each product.  \n",
    "\n",
    "For example, \"1993092+7+870+22+27\" is a micro-behavior, which means that a user read the specification of product \"1993092\" (in the leaf category \"870\"). The time interval between this micro behavior and next micro behavior is 22 seconds. The user spends 27 seconds in this product."
   ]
  },
  {
   "cell_type": "code",
   "execution_count": 1,
   "id": "5a144620",
   "metadata": {},
   "outputs": [
    {
     "name": "stdout",
     "output_type": "stream",
     "text": [
      "Python version: 3.10.4 | packaged by conda-forge | (main, Mar 30 2022, 08:38:02) [MSC v.1916 64 bit (AMD64)]\n",
      "pandas version: 1.4.2\n",
      "matplotlib version: 3.5.2\n",
      "NumPy version: 1.22.4\n",
      "SciPy version: 1.8.1\n",
      "IPython version: 8.3.0\n",
      "scikit-learn version: 1.1.1\n",
      "mglearn version: 0.1.9\n"
     ]
    }
   ],
   "source": [
    "! conda activate dm\n",
    "# importing libraries\n",
    "import sys\n",
    "print(\"Python version:\", sys.version)\n",
    "\n",
    "import pandas as pd\n",
    "print(\"pandas version:\", pd.__version__)\n",
    "\n",
    "import matplotlib\n",
    "print(\"matplotlib version:\", matplotlib.__version__)\n",
    "\n",
    "import numpy as np\n",
    "print(\"NumPy version:\", np.__version__)\n",
    "\n",
    "import scipy as sp\n",
    "print(\"SciPy version:\", sp.__version__)\n",
    "\n",
    "import IPython\n",
    "print(\"IPython version:\", IPython.__version__)\n",
    "\n",
    "import sklearn\n",
    "print(\"scikit-learn version:\", sklearn.__version__)\n",
    "\n",
    "import mglearn\n",
    "print(\"mglearn version:\", mglearn.__version__)\n",
    "\n",
    "import matplotlib.pyplot as plt\n",
    "from pathlib import Path"
   ]
  },
  {
   "cell_type": "markdown",
   "id": "e00ac490",
   "metadata": {},
   "source": [
    "## Data pre-processing"
   ]
  },
  {
   "cell_type": "code",
   "execution_count": 2,
   "id": "12c19749",
   "metadata": {},
   "outputs": [],
   "source": [
    "# Data is not very usable the original way. We are going to separate first by users with their micro behavior \n",
    "data = open(\"dataset/computers_sample\", \"r\") # TODO change the sample for our selected data!!!!\n",
    "\n",
    "user_idx = 0\n",
    "behavior_step = 0\n",
    "data_array = []\n",
    "\n",
    "for line in data:\n",
    "    for micro in line.split(\" \"): \n",
    "        line = str(user_idx) + \"+\" + str(behavior_step) + \"+\" + micro;\n",
    "        line = line.strip(\"\\n \")\n",
    "        data_array.append(line)\n",
    "        behavior_step += 1\n",
    "    behavior_step = 0\n",
    "    user_idx += 1"
   ]
  },
  {
   "cell_type": "code",
   "execution_count": 13,
   "id": "63af58e2",
   "metadata": {},
   "outputs": [
    {
     "name": "stdout",
     "output_type": "stream",
     "text": [
      "--> Saved data\n"
     ]
    },
    {
     "data": {
      "text/html": [
       "<div>\n",
       "<style scoped>\n",
       "    .dataframe tbody tr th:only-of-type {\n",
       "        vertical-align: middle;\n",
       "    }\n",
       "\n",
       "    .dataframe tbody tr th {\n",
       "        vertical-align: top;\n",
       "    }\n",
       "\n",
       "    .dataframe thead th {\n",
       "        text-align: right;\n",
       "    }\n",
       "</style>\n",
       "<table border=\"1\" class=\"dataframe\">\n",
       "  <thead>\n",
       "    <tr style=\"text-align: right;\">\n",
       "      <th></th>\n",
       "      <th>session_id</th>\n",
       "      <th>seq</th>\n",
       "      <th>sku</th>\n",
       "      <th>behavior_type</th>\n",
       "      <th>category</th>\n",
       "      <th>time_interval</th>\n",
       "      <th>dwell_time</th>\n",
       "    </tr>\n",
       "  </thead>\n",
       "  <tbody>\n",
       "    <tr>\n",
       "      <th>0</th>\n",
       "      <td>0</td>\n",
       "      <td>0</td>\n",
       "      <td>2885143</td>\n",
       "      <td>5</td>\n",
       "      <td>683</td>\n",
       "      <td>9</td>\n",
       "      <td>4</td>\n",
       "    </tr>\n",
       "    <tr>\n",
       "      <th>1</th>\n",
       "      <td>0</td>\n",
       "      <td>1</td>\n",
       "      <td>3282626</td>\n",
       "      <td>5</td>\n",
       "      <td>679</td>\n",
       "      <td>3</td>\n",
       "      <td>52</td>\n",
       "    </tr>\n",
       "    <tr>\n",
       "      <th>2</th>\n",
       "      <td>0</td>\n",
       "      <td>2</td>\n",
       "      <td>3282626</td>\n",
       "      <td>7</td>\n",
       "      <td>679</td>\n",
       "      <td>49</td>\n",
       "      <td>52</td>\n",
       "    </tr>\n",
       "    <tr>\n",
       "      <th>3</th>\n",
       "      <td>0</td>\n",
       "      <td>3</td>\n",
       "      <td>3203662</td>\n",
       "      <td>5</td>\n",
       "      <td>679</td>\n",
       "      <td>191</td>\n",
       "      <td>10</td>\n",
       "    </tr>\n",
       "    <tr>\n",
       "      <th>4</th>\n",
       "      <td>0</td>\n",
       "      <td>4</td>\n",
       "      <td>1836048</td>\n",
       "      <td>5</td>\n",
       "      <td>681</td>\n",
       "      <td>122</td>\n",
       "      <td>9</td>\n",
       "    </tr>\n",
       "    <tr>\n",
       "      <th>...</th>\n",
       "      <td>...</td>\n",
       "      <td>...</td>\n",
       "      <td>...</td>\n",
       "      <td>...</td>\n",
       "      <td>...</td>\n",
       "      <td>...</td>\n",
       "      <td>...</td>\n",
       "    </tr>\n",
       "    <tr>\n",
       "      <th>437022</th>\n",
       "      <td>15764</td>\n",
       "      <td>15</td>\n",
       "      <td>2168838</td>\n",
       "      <td>5</td>\n",
       "      <td>688</td>\n",
       "      <td>12</td>\n",
       "      <td>6</td>\n",
       "    </tr>\n",
       "    <tr>\n",
       "      <th>437023</th>\n",
       "      <td>15764</td>\n",
       "      <td>16</td>\n",
       "      <td>1255209</td>\n",
       "      <td>5</td>\n",
       "      <td>688</td>\n",
       "      <td>242</td>\n",
       "      <td>6</td>\n",
       "    </tr>\n",
       "    <tr>\n",
       "      <th>437024</th>\n",
       "      <td>15764</td>\n",
       "      <td>17</td>\n",
       "      <td>696804</td>\n",
       "      <td>5</td>\n",
       "      <td>728</td>\n",
       "      <td>3</td>\n",
       "      <td>14</td>\n",
       "    </tr>\n",
       "    <tr>\n",
       "      <th>437025</th>\n",
       "      <td>15764</td>\n",
       "      <td>18</td>\n",
       "      <td>696804</td>\n",
       "      <td>7</td>\n",
       "      <td>728</td>\n",
       "      <td>53</td>\n",
       "      <td>14</td>\n",
       "    </tr>\n",
       "    <tr>\n",
       "      <th>437026</th>\n",
       "      <td>15764</td>\n",
       "      <td>19</td>\n",
       "      <td>1295138</td>\n",
       "      <td>5</td>\n",
       "      <td>12801</td>\n",
       "      <td>26</td>\n",
       "      <td>12</td>\n",
       "    </tr>\n",
       "  </tbody>\n",
       "</table>\n",
       "<p>437027 rows × 7 columns</p>\n",
       "</div>"
      ],
      "text/plain": [
       "       session_id seq      sku behavior_type category time_interval dwell_time\n",
       "0               0   0  2885143             5      683             9          4\n",
       "1               0   1  3282626             5      679             3         52\n",
       "2               0   2  3282626             7      679            49         52\n",
       "3               0   3  3203662             5      679           191         10\n",
       "4               0   4  1836048             5      681           122          9\n",
       "...           ...  ..      ...           ...      ...           ...        ...\n",
       "437022      15764  15  2168838             5      688            12          6\n",
       "437023      15764  16  1255209             5      688           242          6\n",
       "437024      15764  17   696804             5      728             3         14\n",
       "437025      15764  18   696804             7      728            53         14\n",
       "437026      15764  19  1295138             5    12801            26         12\n",
       "\n",
       "[437027 rows x 7 columns]"
      ]
     },
     "execution_count": 13,
     "metadata": {},
     "output_type": "execute_result"
    }
   ],
   "source": [
    "# we will make our data more easy to understand \n",
    "data_pf = pd.DataFrame(data_array)\n",
    "data_pf.columns = [\"data\"]\n",
    "data_pf = data_pf.data.str.split(pat='+',expand=True)\n",
    "data_pf.columns = [\"session_id\",  \"seq\", \"sku\", \"behavior_type\", \"category\", \"time_interval\", \"dwell_time\"]\n",
    "data_pf\n",
    "\n",
    "# save it\n",
    "filepath = Path('data.csv')  \n",
    "data_pf.to_csv(filepath) \n",
    "print(\"--> Saved data\")\n",
    "data_pf"
   ]
  },
  {
   "cell_type": "markdown",
   "id": "1a33569e",
   "metadata": {},
   "source": [
    "We added two new columns in our data: **user_id** will tell us that that micro behavior was conducted by certain user, meanwhile **seq** refers to the number the behavior has on the sequence. "
   ]
  },
  {
   "cell_type": "markdown",
   "id": "1b434907",
   "metadata": {},
   "source": [
    "## Data exploration"
   ]
  },
  {
   "cell_type": "code",
   "execution_count": 4,
   "id": "5af661eb",
   "metadata": {},
   "outputs": [
    {
     "data": {
      "text/plain": [
       "category\n",
       "10011      25\n",
       "1009        3\n",
       "1047     1413\n",
       "1048      207\n",
       "1049     6351\n",
       "         ... \n",
       "7374      993\n",
       "7375       38\n",
       "808        69\n",
       "826      3441\n",
       "983       224\n",
       "Name: sku, Length: 90, dtype: int64"
      ]
     },
     "execution_count": 4,
     "metadata": {},
     "output_type": "execute_result"
    }
   ],
   "source": [
    "# categories \n",
    "data_pf.groupby(\"category\").count()[\"sku\"]"
   ]
  },
  {
   "cell_type": "code",
   "execution_count": 5,
   "id": "95277adc-1876-4a29-9b6d-d2c60dae8587",
   "metadata": {},
   "outputs": [
    {
     "data": {
      "text/plain": [
       "array(['683', '679', '681', '680', '11762', '678', '11303', '691', '687',\n",
       "       '673', '672', '690', '1105', '688', '720', '4840', '728', '7371',\n",
       "       '736', '674', '717', '5008', '701', '682', '689', '2603', '5010',\n",
       "       '722', '694', '4837', '4839', '7372', '808', '2694', '12376',\n",
       "       '1449', '5009', '730', '675', '684', '700', '826', '1098', '12805',\n",
       "       '12804', '13279', '1049', '731', '1047', '5146', '12803', '12370',\n",
       "       '693', '12799', '1050', '6864', '12798', '719', '1048', '723',\n",
       "       '2601', '12802', '12801', '11304', '7374', '702', '692', '695',\n",
       "       '4838', '733', '724', '718', '727', '7375', '725', '698', '5011',\n",
       "       '7373', '696', '11221', '721', '983', '1051', '1009', '10011',\n",
       "       '10969', '726', '697', '1229', '732'], dtype=object)"
      ]
     },
     "execution_count": 5,
     "metadata": {},
     "output_type": "execute_result"
    }
   ],
   "source": [
    "data_pf.category.unique()"
   ]
  },
  {
   "cell_type": "code",
   "execution_count": 6,
   "id": "eb707b84",
   "metadata": {},
   "outputs": [
    {
     "data": {
      "text/plain": [
       "Text(0, 0.5, 'Frequency')"
      ]
     },
     "execution_count": 6,
     "metadata": {},
     "output_type": "execute_result"
    },
    {
     "data": {
      "image/png": "[encoded data removed]",
      "text/plain": [
       "<Figure size 432x288 with 1 Axes>"
      ]
     },
     "metadata": {
      "needs_background": "light"
     },
     "output_type": "display_data"
    }
   ],
   "source": [
    "# dwell_time\n",
    "# dt = data_pf.groupby(\"dwell_time\").count() # see exactly the counts\n",
    "data_num = data_pf.astype({\"dwell_time\": int}, errors='raise') \n",
    "data_num.hist(column='dwell_time', bins=50, range=(0,600))\n",
    "plt.xlabel('Seconds')\n",
    "plt.ylabel('Frequency')"
   ]
  },
  {
   "cell_type": "code",
   "execution_count": 7,
   "id": "d19e0342-2770-47d2-af40-b7f9331024f8",
   "metadata": {},
   "outputs": [
    {
     "data": {
      "text/plain": [
       "Text(0, 0.5, 'Frequency')"
      ]
     },
     "execution_count": 7,
     "metadata": {},
     "output_type": "execute_result"
    },
    {
     "data": {
      "image/png": "[encoded data removed]",
      "text/plain": [
       "<Figure size 432x288 with 1 Axes>"
      ]
     },
     "metadata": {
      "needs_background": "light"
     },
     "output_type": "display_data"
    }
   ],
   "source": [
    "# time_interval\n",
    "# dt = data_pf.groupby(\"dwell_time\").count() # see exactly the counts\n",
    "data_num = data_pf.astype({\"time_interval\": int}, errors='raise') \n",
    "data_num.hist(column='time_interval', bins=50, range=(0,300))\n",
    "plt.xlabel('Seconds')\n",
    "plt.ylabel('Frequency')"
   ]
  },
  {
   "cell_type": "code",
   "execution_count": 8,
   "id": "541fa08c-dfdd-4f4d-a35e-007234107e1e",
   "metadata": {},
   "outputs": [
    {
     "data": {
      "text/plain": [
       "Text(0, 0.5, 'Frequency')"
      ]
     },
     "execution_count": 8,
     "metadata": {},
     "output_type": "execute_result"
    },
    {
     "data": {
      "image/png": "[encoded data removed]",
      "text/plain": [
       "<Figure size 432x288 with 1 Axes>"
      ]
     },
     "metadata": {
      "needs_background": "light"
     },
     "output_type": "display_data"
    }
   ],
   "source": [
    "# sequence\n",
    "# dt = data_pf.groupby(\"dwell_time\").count() # see exactly the counts\n",
    "data_num = data_pf.astype({\"seq\": int}, errors='raise') \n",
    "data_num.hist(column='seq', bins=50, range=(1,50))\n",
    "plt.xlabel('Sequence')\n",
    "plt.ylabel('Frequency')"
   ]
  },
  {
   "cell_type": "markdown",
   "id": "5bf6ea0e",
   "metadata": {},
   "source": [
    "We can see that most people will spend less than 100 seconds looking at a product, with most of them spending less than 50. There are a few outliers that thake more than 400 seconds."
   ]
  },
  {
   "cell_type": "code",
   "execution_count": 9,
   "id": "d0250dc4-0eaa-4375-b3c1-31c21f5b2bdb",
   "metadata": {},
   "outputs": [
    {
     "data": {
      "text/plain": [
       "Text(0, 0.5, 'Frequency')"
      ]
     },
     "execution_count": 9,
     "metadata": {},
     "output_type": "execute_result"
    },
    {
     "data": {
      "image/png": "[encoded data removed]",
      "text/plain": [
       "<Figure size 432x288 with 1 Axes>"
      ]
     },
     "metadata": {
      "needs_background": "light"
     },
     "output_type": "display_data"
    }
   ],
   "source": [
    "# categories\n",
    "# dt = data_pf.groupby(\"category\").count() # see exactly the counts\n",
    "data_num = data_pf.astype({\"category\": int}, errors='raise') \n",
    "data_num.hist(column='category', bins=50)\n",
    "plt.xlabel('Category')\n",
    "plt.ylabel('Frequency')"
   ]
  },
  {
   "cell_type": "code",
   "execution_count": 10,
   "id": "a28b2aa6-100e-4736-bb4e-7471001f83d7",
   "metadata": {},
   "outputs": [
    {
     "data": {
      "text/plain": [
       "count     437027\n",
       "unique        90\n",
       "top          672\n",
       "freq       73189\n",
       "Name: category, dtype: object"
      ]
     },
     "execution_count": 10,
     "metadata": {},
     "output_type": "execute_result"
    }
   ],
   "source": [
    "data_pf['category'].astype({\"category\": str}, errors='raise').describe()"
   ]
  },
  {
   "cell_type": "code",
   "execution_count": 11,
   "id": "d01c7021",
   "metadata": {},
   "outputs": [
    {
     "data": {
      "text/plain": [
       "behavior_type\n",
       "1       9068\n",
       "10       893\n",
       "2      24066\n",
       "3       2437\n",
       "4      18512\n",
       "5     250913\n",
       "6      30630\n",
       "7      64008\n",
       "8      13686\n",
       "9      22814\n",
       "Name: sku, dtype: int64"
      ]
     },
     "execution_count": 11,
     "metadata": {},
     "output_type": "execute_result"
    }
   ],
   "source": [
    "# behaviors \n",
    "# First, let's check the categories \n",
    "data_pf.groupby(\"behavior_type\").count()[\"sku\"]"
   ]
  },
  {
   "cell_type": "markdown",
   "id": "09db973b",
   "metadata": {},
   "source": [
    "We can check the behavior description from the original source. \n",
    "\n",
    "| behavior_type | Micro behaviors      | Description                                  |\n",
    "| ------------- | -------------------- | -------------------------------------------- |\n",
    "| 1             | Home2Product         | Browse the product from the homepage         |\n",
    "| 2             | ShopList2Product     | Browse the product from the category page    |\n",
    "| 3             | Sale2Product         | Browse the product from the sale page        |\n",
    "| 4             | Cart2Product         | Browse the product from the carted page      |\n",
    "| 5             | SearchList2Product   | Browse the product from the searched results |\n",
    "| 6             | Detail_comments      | Read the comments of the product             |\n",
    "| 7             | Detail_specification | Read the specification of the product        |\n",
    "| 8             | Detail_bottom        | Read the bottom of page of the product       |\n",
    "| 9             | Cart                 | Add the product to the shopping cart         |\n",
    "| 10            | Order                | Make an order                                |\n",
    "\n",
    "There we can see that most people do the \"Browse the product from the searched results\". "
   ]
  },
  {
   "cell_type": "code",
   "execution_count": 12,
   "id": "af9e04ae",
   "metadata": {},
   "outputs": [
    {
     "data": {
      "text/html": [
       "<div>\n",
       "<style scoped>\n",
       "    .dataframe tbody tr th:only-of-type {\n",
       "        vertical-align: middle;\n",
       "    }\n",
       "\n",
       "    .dataframe tbody tr th {\n",
       "        vertical-align: top;\n",
       "    }\n",
       "\n",
       "    .dataframe thead th {\n",
       "        text-align: right;\n",
       "    }\n",
       "</style>\n",
       "<table border=\"1\" class=\"dataframe\">\n",
       "  <thead>\n",
       "    <tr style=\"text-align: right;\">\n",
       "      <th></th>\n",
       "      <th>user_id</th>\n",
       "      <th>seq</th>\n",
       "      <th>behavior_type</th>\n",
       "      <th>category</th>\n",
       "      <th>time_interval</th>\n",
       "      <th>dwell_time</th>\n",
       "    </tr>\n",
       "    <tr>\n",
       "      <th>sku</th>\n",
       "      <th></th>\n",
       "      <th></th>\n",
       "      <th></th>\n",
       "      <th></th>\n",
       "      <th></th>\n",
       "      <th></th>\n",
       "    </tr>\n",
       "  </thead>\n",
       "  <tbody>\n",
       "    <tr>\n",
       "      <th>10000019561</th>\n",
       "      <td>1</td>\n",
       "      <td>1</td>\n",
       "      <td>1</td>\n",
       "      <td>1</td>\n",
       "      <td>1</td>\n",
       "      <td>1</td>\n",
       "    </tr>\n",
       "    <tr>\n",
       "      <th>10000034958</th>\n",
       "      <td>1</td>\n",
       "      <td>1</td>\n",
       "      <td>1</td>\n",
       "      <td>1</td>\n",
       "      <td>1</td>\n",
       "      <td>1</td>\n",
       "    </tr>\n",
       "    <tr>\n",
       "      <th>10000037793</th>\n",
       "      <td>1</td>\n",
       "      <td>1</td>\n",
       "      <td>1</td>\n",
       "      <td>1</td>\n",
       "      <td>1</td>\n",
       "      <td>1</td>\n",
       "    </tr>\n",
       "    <tr>\n",
       "      <th>10000045198</th>\n",
       "      <td>2</td>\n",
       "      <td>2</td>\n",
       "      <td>2</td>\n",
       "      <td>2</td>\n",
       "      <td>2</td>\n",
       "      <td>2</td>\n",
       "    </tr>\n",
       "    <tr>\n",
       "      <th>10000059263</th>\n",
       "      <td>2</td>\n",
       "      <td>2</td>\n",
       "      <td>2</td>\n",
       "      <td>2</td>\n",
       "      <td>2</td>\n",
       "      <td>2</td>\n",
       "    </tr>\n",
       "    <tr>\n",
       "      <th>...</th>\n",
       "      <td>...</td>\n",
       "      <td>...</td>\n",
       "      <td>...</td>\n",
       "      <td>...</td>\n",
       "      <td>...</td>\n",
       "      <td>...</td>\n",
       "    </tr>\n",
       "    <tr>\n",
       "      <th>999305</th>\n",
       "      <td>1</td>\n",
       "      <td>1</td>\n",
       "      <td>1</td>\n",
       "      <td>1</td>\n",
       "      <td>1</td>\n",
       "      <td>1</td>\n",
       "    </tr>\n",
       "    <tr>\n",
       "      <th>999545</th>\n",
       "      <td>2</td>\n",
       "      <td>2</td>\n",
       "      <td>2</td>\n",
       "      <td>2</td>\n",
       "      <td>2</td>\n",
       "      <td>2</td>\n",
       "    </tr>\n",
       "    <tr>\n",
       "      <th>999590</th>\n",
       "      <td>11</td>\n",
       "      <td>11</td>\n",
       "      <td>11</td>\n",
       "      <td>11</td>\n",
       "      <td>11</td>\n",
       "      <td>11</td>\n",
       "    </tr>\n",
       "    <tr>\n",
       "      <th>999894</th>\n",
       "      <td>2</td>\n",
       "      <td>2</td>\n",
       "      <td>2</td>\n",
       "      <td>2</td>\n",
       "      <td>2</td>\n",
       "      <td>2</td>\n",
       "    </tr>\n",
       "    <tr>\n",
       "      <th>999935</th>\n",
       "      <td>4</td>\n",
       "      <td>4</td>\n",
       "      <td>4</td>\n",
       "      <td>4</td>\n",
       "      <td>4</td>\n",
       "      <td>4</td>\n",
       "    </tr>\n",
       "  </tbody>\n",
       "</table>\n",
       "<p>54994 rows × 6 columns</p>\n",
       "</div>"
      ],
      "text/plain": [
       "             user_id  seq  behavior_type  category  time_interval  dwell_time\n",
       "sku                                                                          \n",
       "10000019561        1    1              1         1              1           1\n",
       "10000034958        1    1              1         1              1           1\n",
       "10000037793        1    1              1         1              1           1\n",
       "10000045198        2    2              2         2              2           2\n",
       "10000059263        2    2              2         2              2           2\n",
       "...              ...  ...            ...       ...            ...         ...\n",
       "999305             1    1              1         1              1           1\n",
       "999545             2    2              2         2              2           2\n",
       "999590            11   11             11        11             11          11\n",
       "999894             2    2              2         2              2           2\n",
       "999935             4    4              4         4              4           4\n",
       "\n",
       "[54994 rows x 6 columns]"
      ]
     },
     "execution_count": 12,
     "metadata": {},
     "output_type": "execute_result"
    }
   ],
   "source": [
    "# products \n",
    "data_pf.groupby(\"sku\").count()"
   ]
  },
  {
   "cell_type": "code",
   "execution_count": null,
   "id": "94df5e37-d5cb-4e22-9c41-d5b445199623",
   "metadata": {},
   "outputs": [],
   "source": []
  }
 ],
 "metadata": {
  "kernelspec": {
   "display_name": "Python 3 (ipykernel)",
   "language": "python",
   "name": "python3"
  },
  "language_info": {
   "codemirror_mode": {
    "name": "ipython",
    "version": 3
   },
   "file_extension": ".py",
   "mimetype": "text/x-python",
   "name": "python",
   "nbconvert_exporter": "python",
   "pygments_lexer": "ipython3",
   "version": "3.10.4"
  }
 },
 "nbformat": 4,
 "nbformat_minor": 5
}
