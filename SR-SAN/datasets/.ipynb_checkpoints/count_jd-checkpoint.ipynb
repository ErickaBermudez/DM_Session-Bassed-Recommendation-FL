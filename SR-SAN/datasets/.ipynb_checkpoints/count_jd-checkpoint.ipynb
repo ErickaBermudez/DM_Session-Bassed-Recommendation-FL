{
 "cells": [
  {
   "cell_type": "code",
   "execution_count": 1,
   "id": "6629b452",
   "metadata": {},
   "outputs": [],
   "source": [
    "data = open(\"jd/train.txt\", \"r\")"
   ]
  },
  {
   "cell_type": "code",
   "execution_count": 2,
   "id": "f884fafb",
   "metadata": {},
   "outputs": [],
   "source": [
    "import pandas as pd\n",
    "import pickle\n",
    "\n",
    "obj = pd.read_pickle('jd/train.txt')"
   ]
  },
  {
   "cell_type": "code",
   "execution_count": 3,
   "id": "33b42234",
   "metadata": {},
   "outputs": [],
   "source": [
    "df = pd.DataFrame(obj)"
   ]
  },
  {
   "cell_type": "code",
   "execution_count": 4,
   "id": "9fa921b1",
   "metadata": {},
   "outputs": [
    {
     "data": {
      "text/html": [
       "<div>\n",
       "<style scoped>\n",
       "    .dataframe tbody tr th:only-of-type {\n",
       "        vertical-align: middle;\n",
       "    }\n",
       "\n",
       "    .dataframe tbody tr th {\n",
       "        vertical-align: top;\n",
       "    }\n",
       "\n",
       "    .dataframe thead th {\n",
       "        text-align: right;\n",
       "    }\n",
       "</style>\n",
       "<table border=\"1\" class=\"dataframe\">\n",
       "  <thead>\n",
       "    <tr style=\"text-align: right;\">\n",
       "      <th></th>\n",
       "      <th>0</th>\n",
       "      <th>1</th>\n",
       "      <th>2</th>\n",
       "      <th>3</th>\n",
       "      <th>4</th>\n",
       "      <th>5</th>\n",
       "      <th>6</th>\n",
       "      <th>7</th>\n",
       "      <th>8</th>\n",
       "      <th>9</th>\n",
       "      <th>...</th>\n",
       "      <th>139253</th>\n",
       "      <th>139254</th>\n",
       "      <th>139255</th>\n",
       "      <th>139256</th>\n",
       "      <th>139257</th>\n",
       "      <th>139258</th>\n",
       "      <th>139259</th>\n",
       "      <th>139260</th>\n",
       "      <th>139261</th>\n",
       "      <th>139262</th>\n",
       "    </tr>\n",
       "  </thead>\n",
       "  <tbody>\n",
       "    <tr>\n",
       "      <th>0</th>\n",
       "      <td>[1, 1, 1, 1, 1, 1, 1, 1, 1, 1, 1]</td>\n",
       "      <td>[1, 1, 1, 1, 1, 1, 1, 1, 1, 1]</td>\n",
       "      <td>[1, 1, 1, 1, 1, 1, 1, 1, 1]</td>\n",
       "      <td>[1, 1, 1, 1, 1, 1, 1, 1]</td>\n",
       "      <td>[1, 1, 1, 1, 1, 1, 1]</td>\n",
       "      <td>[1, 1, 1, 1, 1, 1]</td>\n",
       "      <td>[1, 1, 1, 1, 1]</td>\n",
       "      <td>[1, 1, 1, 1]</td>\n",
       "      <td>[1, 1, 1]</td>\n",
       "      <td>[1, 1]</td>\n",
       "      <td>...</td>\n",
       "      <td>[29, 29, 29, 30, 30, 29, 29, 30, 29, 29]</td>\n",
       "      <td>[29, 29, 29, 30, 30, 29, 29, 30, 29]</td>\n",
       "      <td>[29, 29, 29, 30, 30, 29, 29, 30]</td>\n",
       "      <td>[29, 29, 29, 30, 30, 29, 29]</td>\n",
       "      <td>[29, 29, 29, 30, 30, 29]</td>\n",
       "      <td>[29, 29, 29, 30, 30]</td>\n",
       "      <td>[29, 29, 29, 30]</td>\n",
       "      <td>[29, 29, 29]</td>\n",
       "      <td>[29, 29]</td>\n",
       "      <td>[29]</td>\n",
       "    </tr>\n",
       "    <tr>\n",
       "      <th>1</th>\n",
       "      <td>1</td>\n",
       "      <td>1</td>\n",
       "      <td>1</td>\n",
       "      <td>1</td>\n",
       "      <td>1</td>\n",
       "      <td>1</td>\n",
       "      <td>1</td>\n",
       "      <td>1</td>\n",
       "      <td>1</td>\n",
       "      <td>1</td>\n",
       "      <td>...</td>\n",
       "      <td>29</td>\n",
       "      <td>29</td>\n",
       "      <td>29</td>\n",
       "      <td>30</td>\n",
       "      <td>29</td>\n",
       "      <td>29</td>\n",
       "      <td>30</td>\n",
       "      <td>30</td>\n",
       "      <td>29</td>\n",
       "      <td>29</td>\n",
       "    </tr>\n",
       "  </tbody>\n",
       "</table>\n",
       "<p>2 rows × 139263 columns</p>\n",
       "</div>"
      ],
      "text/plain": [
       "                              0                               1       \\\n",
       "0  [1, 1, 1, 1, 1, 1, 1, 1, 1, 1, 1]  [1, 1, 1, 1, 1, 1, 1, 1, 1, 1]   \n",
       "1                                  1                               1   \n",
       "\n",
       "                        2                         3       \\\n",
       "0  [1, 1, 1, 1, 1, 1, 1, 1, 1]  [1, 1, 1, 1, 1, 1, 1, 1]   \n",
       "1                            1                         1   \n",
       "\n",
       "                  4                   5                6             7       \\\n",
       "0  [1, 1, 1, 1, 1, 1, 1]  [1, 1, 1, 1, 1, 1]  [1, 1, 1, 1, 1]  [1, 1, 1, 1]   \n",
       "1                      1                   1                1             1   \n",
       "\n",
       "      8       9       ...                                    139253  \\\n",
       "0  [1, 1, 1]  [1, 1]  ...  [29, 29, 29, 30, 30, 29, 29, 30, 29, 29]   \n",
       "1          1       1  ...                                        29   \n",
       "\n",
       "                                 139254                            139255  \\\n",
       "0  [29, 29, 29, 30, 30, 29, 29, 30, 29]  [29, 29, 29, 30, 30, 29, 29, 30]   \n",
       "1                                    29                                29   \n",
       "\n",
       "                         139256                    139257  \\\n",
       "0  [29, 29, 29, 30, 30, 29, 29]  [29, 29, 29, 30, 30, 29]   \n",
       "1                            30                        29   \n",
       "\n",
       "                 139258            139259        139260    139261 139262  \n",
       "0  [29, 29, 29, 30, 30]  [29, 29, 29, 30]  [29, 29, 29]  [29, 29]   [29]  \n",
       "1                    29                30            30        29     29  \n",
       "\n",
       "[2 rows x 139263 columns]"
      ]
     },
     "execution_count": 4,
     "metadata": {},
     "output_type": "execute_result"
    }
   ],
   "source": [
    "df"
   ]
  },
  {
   "cell_type": "code",
   "execution_count": 5,
   "id": "5434f27b",
   "metadata": {},
   "outputs": [],
   "source": [
    "md = df.max(axis=1)"
   ]
  },
  {
   "cell_type": "code",
   "execution_count": 6,
   "id": "38bd8377-eaf9-4a5d-838d-b8da0e040586",
   "metadata": {},
   "outputs": [
    {
     "name": "stdout",
     "output_type": "stream",
     "text": [
      "TOTAL NODES = 85\n"
     ]
    }
   ],
   "source": [
    "print(\"TOTAL NODES = \" + str(md[1]+1))"
   ]
  },
  {
   "cell_type": "code",
   "execution_count": null,
   "id": "1695472f-8028-437e-8dda-a7dc6063669c",
   "metadata": {},
   "outputs": [],
   "source": []
  }
 ],
 "metadata": {
  "kernelspec": {
   "display_name": "Python 3 (ipykernel)",
   "language": "python",
   "name": "python3"
  },
  "language_info": {
   "codemirror_mode": {
    "name": "ipython",
    "version": 3
   },
   "file_extension": ".py",
   "mimetype": "text/x-python",
   "name": "python",
   "nbconvert_exporter": "python",
   "pygments_lexer": "ipython3",
   "version": "3.9.7"
  }
 },
 "nbformat": 4,
 "nbformat_minor": 5
}
